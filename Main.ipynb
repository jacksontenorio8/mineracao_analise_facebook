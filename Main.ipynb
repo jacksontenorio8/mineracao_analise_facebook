{
  "nbformat": 4,
  "nbformat_minor": 0,
  "metadata": {
    "colab": {
      "name": "Main.ipynb",
      "provenance": [],
      "authorship_tag": "ABX9TyOtb++gEQrzSFr4fS8t0fPj",
      "include_colab_link": true
    },
    "kernelspec": {
      "name": "python3",
      "display_name": "Python 3"
    },
    "language_info": {
      "name": "python"
    }
  },
  "cells": [
    {
      "cell_type": "markdown",
      "metadata": {
        "id": "view-in-github",
        "colab_type": "text"
      },
      "source": [
        "<a href=\"https://colab.research.google.com/github/jacksontenorio8/mineracao_analise_facebook/blob/main/Main.ipynb\" target=\"_parent\"><img src=\"https://colab.research.google.com/assets/colab-badge.svg\" alt=\"Open In Colab\"/></a>"
      ]
    },
    {
      "cell_type": "code",
      "execution_count": null,
      "metadata": {
        "colab": {
          "base_uri": "https://localhost:8080/"
        },
        "id": "aQrOkpdnuuNA",
        "outputId": "8c877147-5e8a-4315-f21b-80bc267ab53a"
      },
      "outputs": [
        {
          "output_type": "stream",
          "name": "stdout",
          "text": [
            "Collecting facebook-sdk\n",
            "  Downloading facebook_sdk-3.1.0-py2.py3-none-any.whl (7.5 kB)\n",
            "Requirement already satisfied: requests in /usr/local/lib/python3.7/dist-packages (from facebook-sdk) (2.23.0)\n",
            "Requirement already satisfied: chardet<4,>=3.0.2 in /usr/local/lib/python3.7/dist-packages (from requests->facebook-sdk) (3.0.4)\n",
            "Requirement already satisfied: certifi>=2017.4.17 in /usr/local/lib/python3.7/dist-packages (from requests->facebook-sdk) (2021.10.8)\n",
            "Requirement already satisfied: urllib3!=1.25.0,!=1.25.1,<1.26,>=1.21.1 in /usr/local/lib/python3.7/dist-packages (from requests->facebook-sdk) (1.24.3)\n",
            "Requirement already satisfied: idna<3,>=2.5 in /usr/local/lib/python3.7/dist-packages (from requests->facebook-sdk) (2.10)\n",
            "Installing collected packages: facebook-sdk\n",
            "Successfully installed facebook-sdk-3.1.0\n"
          ]
        }
      ],
      "source": [
        "!pip install facebook-sdk "
      ]
    },
    {
      "cell_type": "code",
      "source": [
        "import facebook\n",
        "import requests\n",
        "import pandas as pd\n",
        "import numpy as np\n"
      ],
      "metadata": {
        "id": "qNOz8eyXPzZ-"
      },
      "execution_count": null,
      "outputs": []
    },
    {
      "cell_type": "code",
      "source": [
        "!pip install plotly --upgrade"
      ],
      "metadata": {
        "colab": {
          "base_uri": "https://localhost:8080/"
        },
        "id": "HtHIeHMFQWca",
        "outputId": "a261745a-3cea-41b7-eba5-468f85e2e1b9"
      },
      "execution_count": null,
      "outputs": [
        {
          "output_type": "stream",
          "name": "stdout",
          "text": [
            "Requirement already satisfied: plotly in /usr/local/lib/python3.7/dist-packages (5.5.0)\n",
            "Collecting plotly\n",
            "  Downloading plotly-5.8.0-py2.py3-none-any.whl (15.2 MB)\n",
            "\u001b[K     |████████████████████████████████| 15.2 MB 4.4 MB/s \n",
            "\u001b[?25hRequirement already satisfied: tenacity>=6.2.0 in /usr/local/lib/python3.7/dist-packages (from plotly) (8.0.1)\n",
            "Installing collected packages: plotly\n",
            "  Attempting uninstall: plotly\n",
            "    Found existing installation: plotly 5.5.0\n",
            "    Uninstalling plotly-5.5.0:\n",
            "      Successfully uninstalled plotly-5.5.0\n",
            "Successfully installed plotly-5.8.0\n"
          ]
        }
      ]
    },
    {
      "cell_type": "code",
      "source": [
        "import plotly.express as px"
      ],
      "metadata": {
        "id": "5z84NQ2rncLC"
      },
      "execution_count": null,
      "outputs": []
    },
    {
      "cell_type": "code",
      "source": [
        "app_id = '985208512192893'\n",
        "app_secret = '696a7a4f66ed338af4c728eaaba08313'\n",
        "# 1  hora\n",
        "user_short_token = 'EAAOACrtmIX0BAEAHSkpNw3JCLMyLacDT3UTxrWAlDp6quZCc8Qo8mct1lOq3FqfPGZA59Ex7ZBCiJM2GX2vimZCOZCarUbMm8HAG1PwKnq2QcYyx3jNIZBZBNX1oDja5nXF85TVqZAWJJ69PXi8Ps59MvZB2hZAUynECIwcXZAVw19iahBV2ohgw2q2CXakxGrDXRscIVtnGZAKvEfZAkvCdc8KolDIRlR277ZCCkolCcSMUVuvIxtZAgH08ccV'"
      ],
      "metadata": {
        "id": "LA4P3UnExWuy"
      },
      "execution_count": null,
      "outputs": []
    },
    {
      "cell_type": "code",
      "source": [
        "url = 'https://graph.facebook.com/oauth/access_token'"
      ],
      "metadata": {
        "id": "9EWn_ygD2JTC"
      },
      "execution_count": null,
      "outputs": []
    },
    {
      "cell_type": "code",
      "source": [
        "parameters = {'grant_type': 'fb_exchange_token',\n",
        "              'client_id': app_id,\n",
        "              'client_secret': app_secret,\n",
        "              'fb_exchange_token': user_short_token}"
      ],
      "metadata": {
        "id": "27pTIkKU2qtd"
      },
      "execution_count": null,
      "outputs": []
    },
    {
      "cell_type": "code",
      "source": [
        "response = requests.get(url, params=parameters) "
      ],
      "metadata": {
        "id": "RC98RVj440aC"
      },
      "execution_count": null,
      "outputs": []
    },
    {
      "cell_type": "code",
      "source": [
        "response"
      ],
      "metadata": {
        "colab": {
          "base_uri": "https://localhost:8080/"
        },
        "id": "kBYLeUUi59Z3",
        "outputId": "06890473-c170-4c51-f10e-a3855d04953e"
      },
      "execution_count": null,
      "outputs": [
        {
          "output_type": "execute_result",
          "data": {
            "text/plain": [
              "<Response [200]>"
            ]
          },
          "metadata": {},
          "execution_count": 22
        }
      ]
    },
    {
      "cell_type": "code",
      "source": [
        "response_json = response.json()\n",
        "response_json"
      ],
      "metadata": {
        "colab": {
          "base_uri": "https://localhost:8080/"
        },
        "id": "5R3cLE7s_EZD",
        "outputId": "b10093e1-8664-48f8-981f-8916df326bad"
      },
      "execution_count": null,
      "outputs": [
        {
          "output_type": "execute_result",
          "data": {
            "text/plain": [
              "{'access_token': 'EAAOACrtmIX0BAM8WwxLtRkEA6Ih32NdNsAjTnuMc0TSHcmL4ru4WAacuR8wZAZAsgM2xF5zPgS60WpIrwLJ8xOchQJAJm1ZBeqZAqKyZCVw9cfcdixYREvuZAZAIj816NITq3vp5haeMJIROXE9YnvipbRMkU2hWVQFPGkUF49tqcAZBBd90wy14',\n",
              " 'expires_in': 5183871,\n",
              " 'token_type': 'bearer'}"
            ]
          },
          "metadata": {},
          "execution_count": 23
        }
      ]
    },
    {
      "cell_type": "code",
      "source": [
        "# 2 meses\n",
        "user_long_token = response_json['access_token']\n",
        "user_long_token"
      ],
      "metadata": {
        "colab": {
          "base_uri": "https://localhost:8080/",
          "height": 53
        },
        "id": "oAUjeDwjIrUh",
        "outputId": "82bc03ba-2fb5-497a-ee45-9b93a23ce9e3"
      },
      "execution_count": null,
      "outputs": [
        {
          "output_type": "execute_result",
          "data": {
            "text/plain": [
              "'EAAOACrtmIX0BAM8WwxLtRkEA6Ih32NdNsAjTnuMc0TSHcmL4ru4WAacuR8wZAZAsgM2xF5zPgS60WpIrwLJ8xOchQJAJm1ZBeqZAqKyZCVw9cfcdixYREvuZAZAIj816NITq3vp5haeMJIROXE9YnvipbRMkU2hWVQFPGkUF49tqcAZBBd90wy14'"
            ],
            "application/vnd.google.colaboratory.intrinsic+json": {
              "type": "string"
            }
          },
          "metadata": {},
          "execution_count": 24
        }
      ]
    },
    {
      "cell_type": "code",
      "source": [
        "graph = facebook.GraphAPI(access_token=user_long_token, version='3.1')"
      ],
      "metadata": {
        "id": "bDG8GYVGKvRa"
      },
      "execution_count": null,
      "outputs": []
    },
    {
      "cell_type": "code",
      "source": [
        "dados_pagina = graph.get_object('/me')\n",
        "dados_pagina"
      ],
      "metadata": {
        "colab": {
          "base_uri": "https://localhost:8080/"
        },
        "id": "_2Km-XgVLkDK",
        "outputId": "30c74601-c03e-4173-9ff6-7b2496647401"
      },
      "execution_count": null,
      "outputs": [
        {
          "output_type": "execute_result",
          "data": {
            "text/plain": [
              "{'id': '5033722940015528', 'name': 'Jackson Tenorio'}"
            ]
          },
          "metadata": {},
          "execution_count": 27
        }
      ]
    },
    {
      "cell_type": "code",
      "source": [
        "dados_pagina = graph.get_object('/me/accounts')\n",
        "dados_pagina"
      ],
      "metadata": {
        "colab": {
          "base_uri": "https://localhost:8080/"
        },
        "id": "GcjV4PAM29U0",
        "outputId": "f31ca456-0a4b-44b9-d6b7-6952401ccee2"
      },
      "execution_count": null,
      "outputs": [
        {
          "output_type": "execute_result",
          "data": {
            "text/plain": [
              "{'data': []}"
            ]
          },
          "metadata": {},
          "execution_count": 30
        }
      ]
    },
    {
      "cell_type": "code",
      "source": [
        "permanente_page_token = dados_pagina['data']"
      ],
      "metadata": {
        "id": "8fvh4yXC6zTy"
      },
      "execution_count": null,
      "outputs": []
    }
  ]
}